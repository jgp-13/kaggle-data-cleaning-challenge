{
 "cells": [
  {
   "cell_type": "code",
   "execution_count": 2,
   "id": "79354f68-e2bf-4f58-ae3c-a1fa0ab00d51",
   "metadata": {},
   "outputs": [
    {
     "name": "stdout",
     "output_type": "stream",
     "text": [
      "C:\\Users\\josue\\Documents\\data_analysis_projects\\kaggle\\data-cleaning-challenge\\data\\d0-raw C:\\Users\\josue\\Documents\\data_analysis_projects\\kaggle\\data-cleaning-challenge\\data\\d1-interim C:\\Users\\josue\\Documents\\data_analysis_projects\\kaggle\\data-cleaning-challenge\\data\\d2-clean\n"
     ]
    }
   ],
   "source": [
    "import sys\n",
    "import os\n",
    "\n",
    "# Get the project root directory\n",
    "PROJECT_ROOT = os.path.abspath(\"..\")  # Adjust if needed\n",
    "\n",
    "# Add it to sys.path so Python can find kaggle_cleaning\n",
    "if PROJECT_ROOT not in sys.path:\n",
    "    sys.path.append(PROJECT_ROOT)\n",
    "\n",
    "# Now import\n",
    "from kaggle_cleaning.config import RAW_DATA_DIR, INTERIM_DATA_DIR, CLEAN_DATA_DIR\n",
    "print(RAW_DATA_DIR, INTERIM_DATA_DIR, CLEAN_DATA_DIR)\n"
   ]
  },
  {
   "cell_type": "code",
   "execution_count": null,
   "id": "aed23642-64e4-4a55-8337-fb1eabdc9ff0",
   "metadata": {},
   "outputs": [],
   "source": [
    "# Get the project root directory\n"
   ]
  }
 ],
 "metadata": {
  "kernelspec": {
   "display_name": "Python 3 (ipykernel)",
   "language": "python",
   "name": "python3"
  },
  "language_info": {
   "codemirror_mode": {
    "name": "ipython",
    "version": 3
   },
   "file_extension": ".py",
   "mimetype": "text/x-python",
   "name": "python",
   "nbconvert_exporter": "python",
   "pygments_lexer": "ipython3",
   "version": "3.12.9"
  }
 },
 "nbformat": 4,
 "nbformat_minor": 5
}

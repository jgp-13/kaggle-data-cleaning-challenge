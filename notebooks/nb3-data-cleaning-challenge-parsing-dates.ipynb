{
 "cells": [
  {
   "cell_type": "markdown",
   "metadata": {},
   "source": [
    "# Data Cleaning Challenge - Parsing dates"
   ]
  },
  {
   "cell_type": "markdown",
   "metadata": {
    "jp-MarkdownHeadingCollapsed": true
   },
   "source": [
    "## Intro"
   ]
  },
  {
   "cell_type": "markdown",
   "metadata": {
    "_cell_guid": "b91a74ba-85f4-486e-b5f9-d0898f0626bf",
    "_uuid": "6ac53f18b4f4ec0fc44348cedb5d1c319fa127c0",
    "jp-MarkdownHeadingCollapsed": true
   },
   "source": [
    "### All days of the challange:\n",
    "\n",
    "* [Day 1: Handling missing values](https://www.kaggle.com/rtatman/data-cleaning-challenge-handling-missing-values)\n",
    "* [Day 2: Scaling and normalization](https://www.kaggle.com/rtatman/data-cleaning-challenge-scale-and-normalize-data)\n",
    "* [Day 3: Parsing dates](https://www.kaggle.com/rtatman/data-cleaning-challenge-parsing-dates/)\n",
    "* [Day 4: Character encodings](https://www.kaggle.com/rtatman/data-cleaning-challenge-character-encodings/)\n",
    "* [Day 5: Inconsistent Data Entry](https://www.kaggle.com/rtatman/data-cleaning-challenge-inconsistent-data-entry/)\n",
    "___\n",
    "Welcome to day 3 of the 5-Day Data Challenge! Today, we're going to work with dates. To get started, click the blue \"Fork Notebook\" button in the upper, right hand corner. This will create a private copy of this notebook that you can edit and play with. Once you're finished with the exercises, you can choose to make your notebook public to share with others. :)\n",
    "\n",
    "> **Your turn!** As we work through this notebook, you'll see some notebook cells (a block of either code or text) that has \"Your Turn!\" written in it. These are exercises for you to do to help cement your understanding of the concepts we're talking about. Once you've written the code to answer a specific question, you can run the code by clicking inside the cell (box with code in it) with the code you want to run and then hit CTRL + ENTER (CMD + ENTER on a Mac). You can also click in a cell and then click on the right \"play\" arrow to the left of the code. If you want to run all the code in your notebook, you can use the double, \"fast forward\" arrows at the bottom of the notebook editor.\n",
    "\n",
    "Here's what we're going to do today:\n",
    "\n",
    "* [Get our environment set up](#Get-our-environment-set-up)\n",
    "* [Check the data type of our date column](#Check-the-data-type-of-our-date-column)\n",
    "* [Convert our date columns to datetime](#Convert-our-date-columns-to-datetime)\n",
    "* [Select just the day of the month from our column](#Select-just-the-day-of-the-month-from-our-column)\n",
    "* [Plot the day of the month to check the date parsing](#Plot-the-day-of-the-month-to-the-date-parsing)\n",
    "\n",
    "Let's get started!"
   ]
  },
  {
   "cell_type": "markdown",
   "metadata": {
    "_cell_guid": "5cd5061f-ae30-4837-a53b-690ffd5c5830",
    "_uuid": "9d82bf13584b8e682962fbb96131f2447d741679"
   },
   "source": [
    "## Get our environment set up"
   ]
  },
  {
   "cell_type": "markdown",
   "metadata": {
    "_cell_guid": "5cd5061f-ae30-4837-a53b-690ffd5c5830",
    "_uuid": "9d82bf13584b8e682962fbb96131f2447d741679"
   },
   "source": [
    "The first thing we'll need to do is load in the libraries and datasets we'll be using. For today, we'll be working with two datasets: one containing information on earthquakes that occured between 1965 and 2016, and another that contains information on landslides that occured between 2007 and 2016.\n",
    "\n",
    "> **Important!** Make sure you run this cell yourself or the rest of your code won't work!"
   ]
  },
  {
   "cell_type": "code",
   "execution_count": 2,
   "metadata": {
    "_cell_guid": "135a7804-b5f5-40aa-8657-4a15774e3666",
    "_uuid": "835cbe0834b935fb0fd40c75b9c39454836f4d5f"
   },
   "outputs": [],
   "source": [
    "# modules we'll use\n",
    "import pandas as pd\n",
    "import numpy as np\n",
    "import seaborn as sns\n",
    "import matplotlib.pyplot as plt\n",
    "import datetime\n",
    "\n",
    "# Handling directories\n",
    "import os\n",
    "import kaggle_cleaning\n",
    "from kaggle_cleaning.config import RAW_DATA_DIR, CLEAN_DATA_DIR\n",
    "\n",
    "# read in all our data\n",
    "# earthquakes\n",
    "earthquakes_file = os.path.join(RAW_DATA_DIR, \"database_earthquakes.csv\")\n",
    "earthquakes_clean_file = os.path.join(CLEAN_DATA_DIR, \"earthquakes-clean.csv\")\n",
    "earthquakes = pd.read_csv(earthquakes_file)\n",
    "\n",
    "# landslides\n",
    "landslides_file = os.path.join(RAW_DATA_DIR, \"catalog.csv\")\n",
    "landslides_clean_file = os.path.join(CLEAN_DATA_DIR, \"landslides-clean.csv\")\n",
    "landslides = pd.read_csv(landslides_file)\n",
    "\n",
    "# volcanos\n",
    "volcanos_file = os.path.join(RAW_DATA_DIR, \"database_volcanoes.csv\")\n",
    "volcanos_clean_file = os.path.join(CLEAN_DATA_DIR, \"volcanoes-clean.csv\")\n",
    "volcanos = pd.read_csv(volcanos_file)\n",
    "\n",
    "# read in our data\n",
    "# landslides = pd.read_csv(\"../input/landslide-events/catalog.csv\")\n",
    "# volcanos = pd.read_csv(\"../input/volcanic-eruptions/database.csv\")\n",
    "\n",
    "# set seed for reproducibility\n",
    "np.random.seed(0)"
   ]
  },
  {
   "cell_type": "markdown",
   "metadata": {
    "_cell_guid": "604ac3a4-b1d9-4264-b312-4bbeecdeec00",
    "_uuid": "03ce3b4afe87d98f777172c2c7be066a66a0b237"
   },
   "source": [
    "Now we're ready to look at some dates! (If you like, you can take this opportunity to take a look at some of the data.)"
   ]
  },
  {
   "cell_type": "markdown",
   "metadata": {
    "_cell_guid": "9b87a77d-e5e5-4581-9cd3-0e7339fe1516",
    "_uuid": "742028572a307a42ce40db0102171bc219b05282"
   },
   "source": [
    "## Check the data type of our date column"
   ]
  },
  {
   "cell_type": "markdown",
   "metadata": {
    "_cell_guid": "9b87a77d-e5e5-4581-9cd3-0e7339fe1516",
    "_uuid": "742028572a307a42ce40db0102171bc219b05282"
   },
   "source": [
    "For this part of the challenge, I'll be working with the `date` column from the `landslides` dataframe. The very first thing I'm going to do is take a peek at the first few rows to make sure it actually looks like it contains dates."
   ]
  },
  {
   "cell_type": "code",
   "execution_count": 3,
   "metadata": {
    "_cell_guid": "e6b7eb39-c3e3-40a1-b0a5-91cfcd2d42da",
    "_uuid": "93a08de7a6a621e4b07968c07c1cc612936c6027"
   },
   "outputs": [
    {
     "name": "stdout",
     "output_type": "stream",
     "text": [
      "0     3/2/07\n",
      "1    3/22/07\n",
      "2     4/6/07\n",
      "3    4/14/07\n",
      "4    4/15/07\n",
      "Name: date, dtype: object\n"
     ]
    }
   ],
   "source": [
    "# print the first few rows of the date column\n",
    "print(landslides['date'].head())"
   ]
  },
  {
   "cell_type": "markdown",
   "metadata": {
    "_cell_guid": "dbdacb7c-10d4-4b0a-8f6b-6d4a940ca446",
    "_uuid": "d88dbc08ab145fd20f86073b027c53f40fd306bc"
   },
   "source": [
    "Yep, those are dates! But just because I, a human, can tell that these are dates doesn't mean that Python knows that they're dates. Notice that the at the bottom of the output of `head()`, you can see that it says that the data type of this  column is \"object\". \n",
    "\n",
    "> Pandas uses the \"object\" dtype for storing various types of data types, but most often when you see a column with the dtype \"object\" it will have strings in it. \n",
    "\n",
    "If you check the pandas dtype documentation [here](http://pandas.pydata.org/pandas-docs/stable/basics.html#dtypes), you'll notice that there's also a specific `datetime64` dtypes. Because the dtype of our column is `object` rather than `datetime64`, we can tell that Python doesn't know that this column contains dates.\n",
    "\n",
    "We can also look at just the dtype of your column without printing the first few rows if we like:"
   ]
  },
  {
   "cell_type": "code",
   "execution_count": 4,
   "metadata": {
    "_cell_guid": "56a047f4-cbf7-4914-951c-a04310ee7432",
    "_uuid": "e2ab2ac80aaac7b165b3af64edb75d29f2612482"
   },
   "outputs": [
    {
     "data": {
      "text/plain": [
       "dtype('O')"
      ]
     },
     "execution_count": 4,
     "metadata": {},
     "output_type": "execute_result"
    }
   ],
   "source": [
    "# check the data type of our date column\n",
    "landslides['date'].dtype"
   ]
  },
  {
   "cell_type": "markdown",
   "metadata": {
    "_cell_guid": "99a207db-3db0-4343-9805-58753f51f6e8",
    "_uuid": "06e6483764014a04e7a1f34525e2f12aee5fdab8"
   },
   "source": [
    "You may have to check the [numpy documentation](https://docs.scipy.org/doc/numpy-1.12.0/reference/generated/numpy.dtype.kind.html#numpy.dtype.kind) to match the letter code to the dtype of the object. \"O\" is the code for \"object\", so we can see that these two methods give us the same information."
   ]
  },
  {
   "cell_type": "code",
   "execution_count": 5,
   "metadata": {
    "_cell_guid": "8987e921-0c37-4c0f-ba68-e4e26d8d1a1b",
    "_uuid": "a2a983470b318469993b75b450bab28c12b59ae6"
   },
   "outputs": [
    {
     "data": {
      "text/plain": [
       "dtype('O')"
      ]
     },
     "metadata": {},
     "output_type": "display_data"
    },
    {
     "data": {
      "text/plain": [
       "335      12/26/1965\n",
       "8952     04/03/1988\n",
       "21724    04/22/2013\n",
       "20018    03/19/2010\n",
       "4309     04/20/1977\n",
       "Name: Date, dtype: object"
      ]
     },
     "metadata": {},
     "output_type": "display_data"
    }
   ],
   "source": [
    "# Your turn! Check the data type of the Date column in the earthquakes dataframe\n",
    "# (note the capital 'D' in date!)\n",
    "display(earthquakes['Date'].dtype)\n",
    "display(earthquakes['Date'].sample(5)) # Checking other rows was necessary to correctly determine the positions of the month and day.\n"
   ]
  },
  {
   "cell_type": "markdown",
   "metadata": {
    "_cell_guid": "fb3b552b-411b-4fc0-b1e6-a3a8156fd459",
    "_uuid": "0939ce269aef7001e35cc8f2a5f1eed1f6160940"
   },
   "source": [
    "## Convert our date columns to datetime"
   ]
  },
  {
   "cell_type": "markdown",
   "metadata": {
    "_cell_guid": "fb3b552b-411b-4fc0-b1e6-a3a8156fd459",
    "_uuid": "0939ce269aef7001e35cc8f2a5f1eed1f6160940"
   },
   "source": [
    "Now that we know that our date column isn't being recognized as a date, it's time to convert it so that it *is* recognized as a date. This is called \"parsing dates\" because we're taking in a string and identifying its component parts.\n",
    "\n",
    "We can pandas what the format of our dates are with a guide called as [\"strftime directive\", which you can find more information on at this link](http://strftime.org/). The basic idea is that you need to point out which parts of the date are where and what punctuation is between them. There are [lots of possible parts of a date](http://strftime.org/), but the most common are `%d` for day, `%m` for month, `%y` for a two-digit year and `%Y` for a four digit year.\n",
    "\n",
    "Some examples:\n",
    "\n",
    " * 1/17/07 has the format \"%m/%d/%y\"\n",
    " * 17-1-2007 has the format \"%d-%m-%Y\"\n",
    " \n",
    " Looking back up at the head of the `date` column in the landslides dataset, we can see that it's in the format \"month/day/two-digit year\", so we can use the same syntax as the first example to parse in our dates: "
   ]
  },
  {
   "cell_type": "code",
   "execution_count": 6,
   "metadata": {
    "_cell_guid": "f955aa17-ede7-4457-a913-ba1c44f8846d",
    "_uuid": "a471aae50241b245caa0c60fbb19821372682b76"
   },
   "outputs": [],
   "source": [
    "# create a new column, date_parsed, with the parsed dates\n",
    "landslides['date_parsed'] = pd.to_datetime(landslides['date'], format = \"%m/%d/%y\")"
   ]
  },
  {
   "cell_type": "markdown",
   "metadata": {
    "_cell_guid": "09c1c55c-3883-4f5e-8ea9-e914b09416b6",
    "_uuid": "50feaed5f874d8c09f983ad3172febdc54f4f0bb"
   },
   "source": [
    "Now when I check the first few rows of the new column, I can see that the dtype is `datetime64`. I can also see that my dates have been slightly rearranged so that they fit the default order datetime objects (year-month-day)."
   ]
  },
  {
   "cell_type": "code",
   "execution_count": 7,
   "metadata": {
    "_cell_guid": "5a6c6244-b724-4a70-b356-6e3fb1e61270",
    "_uuid": "2bff07787e5aa5ad2b6484c5bcee18b5b2f283bc"
   },
   "outputs": [
    {
     "data": {
      "text/plain": [
       "0   2007-03-02\n",
       "1   2007-03-22\n",
       "2   2007-04-06\n",
       "3   2007-04-14\n",
       "4   2007-04-15\n",
       "Name: date_parsed, dtype: datetime64[ns]"
      ]
     },
     "execution_count": 7,
     "metadata": {},
     "output_type": "execute_result"
    }
   ],
   "source": [
    "# print the first few rows\n",
    "landslides['date_parsed'].head()"
   ]
  },
  {
   "cell_type": "markdown",
   "metadata": {
    "_cell_guid": "7bd8f8b6-8a60-4a12-b94b-4100188845da",
    "_uuid": "fc95b22f0f4d7a6bc0cb1a7cc55abfb204cc81f9"
   },
   "source": [
    "Now that our dates are parsed correctly, we can interact with them in useful ways.\n",
    "\n",
    "___\n",
    "* **What if I run into an error with multiple date formats?** While we're specifying the date format here, sometimes you'll run into an error when there are multiple date formats in a single column. If that happens, you have have pandas try to infer what the right date format should be. You can do that like so:\n",
    "\n",
    "`landslides['date_parsed'] = pd.to_datetime(landslides['Date'], infer_datetime_format=True)`\n",
    "\n",
    "* **Why don't you always use `infer_datetime_format = True?`** There are two big reasons not to always have pandas guess the time format. The first is that pandas won't always been able to figure out the correct date format, especially if someone has gotten creative with data entry. The second is that it's much slower than specifying the exact format of the dates.\n",
    "____"
   ]
  },
  {
   "cell_type": "code",
   "execution_count": 8,
   "metadata": {
    "_cell_guid": "beba42ab-fb0e-4285-83cb-984a51bdb8ed",
    "_uuid": "c029d8021e0d6cd5de3c9e62014a498c7dd5d582"
   },
   "outputs": [
    {
     "data": {
      "text/plain": [
       "np.int64(0)"
      ]
     },
     "metadata": {},
     "output_type": "display_data"
    },
    {
     "data": {
      "text/html": [
       "<div>\n",
       "<style scoped>\n",
       "    .dataframe tbody tr th:only-of-type {\n",
       "        vertical-align: middle;\n",
       "    }\n",
       "\n",
       "    .dataframe tbody tr th {\n",
       "        vertical-align: top;\n",
       "    }\n",
       "\n",
       "    .dataframe thead th {\n",
       "        text-align: right;\n",
       "    }\n",
       "</style>\n",
       "<table border=\"1\" class=\"dataframe\">\n",
       "  <thead>\n",
       "    <tr style=\"text-align: right;\">\n",
       "      <th></th>\n",
       "      <th>Date</th>\n",
       "      <th>Date_parsed</th>\n",
       "    </tr>\n",
       "  </thead>\n",
       "  <tbody>\n",
       "    <tr>\n",
       "      <th>2293</th>\n",
       "      <td>04/24/1972</td>\n",
       "      <td>1972-04-24 00:00:00+00:00</td>\n",
       "    </tr>\n",
       "    <tr>\n",
       "      <th>22014</th>\n",
       "      <td>12/29/2013</td>\n",
       "      <td>2013-12-29 00:00:00+00:00</td>\n",
       "    </tr>\n",
       "    <tr>\n",
       "      <th>3421</th>\n",
       "      <td>04/04/1975</td>\n",
       "      <td>1975-04-04 00:00:00+00:00</td>\n",
       "    </tr>\n",
       "    <tr>\n",
       "      <th>15308</th>\n",
       "      <td>02/24/2001</td>\n",
       "      <td>2001-02-24 00:00:00+00:00</td>\n",
       "    </tr>\n",
       "    <tr>\n",
       "      <th>3261</th>\n",
       "      <td>10/11/1974</td>\n",
       "      <td>1974-10-11 00:00:00+00:00</td>\n",
       "    </tr>\n",
       "  </tbody>\n",
       "</table>\n",
       "</div>"
      ],
      "text/plain": [
       "             Date               Date_parsed\n",
       "2293   04/24/1972 1972-04-24 00:00:00+00:00\n",
       "22014  12/29/2013 2013-12-29 00:00:00+00:00\n",
       "3421   04/04/1975 1975-04-04 00:00:00+00:00\n",
       "15308  02/24/2001 2001-02-24 00:00:00+00:00\n",
       "3261   10/11/1974 1974-10-11 00:00:00+00:00"
      ]
     },
     "metadata": {},
     "output_type": "display_data"
    }
   ],
   "source": [
    "# Your turn! Create a new column, date_parsed, in the earthquakes\n",
    "# dataset that has correctly parsed dates in it. (Don't forget to \n",
    "# double-check that the dtype is correct!)\n",
    "\n",
    "earthquakes['Date_parsed'] = pd.to_datetime(earthquakes['Date'], \n",
    "                                            format='mixed',\n",
    "                                            dayfirst=False,\n",
    "                                            utc=True,\n",
    "                                            #format = '%m/%d/%Y',#returns error because three entries in ISO8601 format\n",
    "                                           )\n",
    "\n",
    "# Verify that all dates were parsed successfully\n",
    "display(earthquakes['Date_parsed'].isnull().sum())\n",
    "\n",
    "# Check if all parsed dates match the original dataset\n",
    "display(earthquakes[['Date', 'Date_parsed']].sample(5))\n"
   ]
  },
  {
   "cell_type": "raw",
   "metadata": {
    "_cell_guid": "beba42ab-fb0e-4285-83cb-984a51bdb8ed",
    "_uuid": "c029d8021e0d6cd5de3c9e62014a498c7dd5d582"
   },
   "source": [
    "earthquakes['Date_parsed_coerce'] = pd.to_datetime(earthquakes['Date'], \n",
    "                                            #format='mixed',\n",
    "                                            #dayfirst=False,\n",
    "                                            utc=True,\n",
    "                                            #format = '%m/%d/%Y',#returns error because one entry\n",
    "                                            errors='coerce',\n",
    "                                           )\n",
    "\n",
    "display(earthquakes['Date_parsed_coerce'].isnull().sum())\n",
    "display(earthquakes[['Date_parsed','Date_parsed_coerce','Date']][earthquakes['Date_parsed_coerce']!=earthquakes['Date_parsed']])\n",
    "display(earthquakes[['Date_parsed','Date_parsed_coerce','Date']][earthquakes['Date_parsed_coerce'].isnull()])\n",
    "display(earthquakes[['Date_parsed','Date_parsed_coerce','Date']].sample(5))"
   ]
  },
  {
   "cell_type": "markdown",
   "metadata": {
    "_cell_guid": "9f310829-85bd-44c8-b1c5-d582407b5931",
    "_uuid": "3d6f5bef5deb1c1d4d83bbcaeb9ba23612978f35"
   },
   "source": [
    "## Select just the day of the month from our column"
   ]
  },
  {
   "cell_type": "markdown",
   "metadata": {
    "_cell_guid": "9f310829-85bd-44c8-b1c5-d582407b5931",
    "_uuid": "3d6f5bef5deb1c1d4d83bbcaeb9ba23612978f35"
   },
   "source": [
    "\"Ok, Rachael,\" you may be saying at this point, \"This messing around with data types is fine, I guess, but what's the *point*?\" To answer your question, let's try to get information on the day of the month that a landslide occured on from the original \"date\" column, which has an \"object\" dtype: "
   ]
  },
  {
   "cell_type": "code",
   "execution_count": 9,
   "metadata": {
    "_cell_guid": "ff451a5e-4447-40e2-ad76-367136a1fcff",
    "_uuid": "3c3be07dbf7394103a1db120e6ecbdffaf08d37f"
   },
   "outputs": [
    {
     "name": "stdout",
     "output_type": "stream",
     "text": [
      "Nice try! But your dates need proper formatting first. Convert them before extracting the day.\n",
      "(AttributeError: Can only use .dt accessor with datetimelike values)\n"
     ]
    }
   ],
   "source": [
    "# try to get the day of the month from the date column\n",
    "try:\n",
    "    day_of_month_landslides = landslides['date'].dt.day\n",
    "except AttributeError as e:\n",
    "    print(f\"Nice try! But your dates need proper formatting first. Convert them before extracting the day.\\n(AttributeError: {e})\")\n"
   ]
  },
  {
   "cell_type": "markdown",
   "metadata": {
    "_cell_guid": "c78aada6-c4d9-4464-894e-bdd4fabb4b13",
    "_uuid": "5847844cdd3aede3ff62bc5115f1d69c91b4af9d"
   },
   "source": [
    "We got an error! The important part to look at here is the part at the very end that says `AttributeError: Can only use .dt accessor with datetimelike values`. We're getting this error because the dt.day() function doesn't know how to deal with a column with the dtype \"object\". Even though our dataframe has dates in it, because they haven't been parsed we can't interact with them in a useful way.\n",
    "\n",
    "Luckily, we have a column that we parsed earlier , and that lets us get the day of the month out no problem:"
   ]
  },
  {
   "cell_type": "code",
   "execution_count": 10,
   "metadata": {
    "_cell_guid": "27b6422d-3a62-47ca-bb87-6e6292bed7cf",
    "_uuid": "e0be15da345949c990b5789e2a94f8f4e09e4cf5"
   },
   "outputs": [
    {
     "data": {
      "text/plain": [
       "np.int64(3)"
      ]
     },
     "execution_count": 10,
     "metadata": {},
     "output_type": "execute_result"
    }
   ],
   "source": [
    "# get the day of the month from the date_parsed column\n",
    "day_of_month_landslides = landslides['date_parsed'].dt.day\n",
    "day_of_month_landslides.isnull().sum()"
   ]
  },
  {
   "cell_type": "code",
   "execution_count": 11,
   "metadata": {
    "_cell_guid": "aa3c05ea-f6d1-453f-86dc-c2fd9f8b3fd6",
    "_uuid": "ffe9bfc0acef502b995aa61ee1c5d2e4a59a5e4e"
   },
   "outputs": [
    {
     "data": {
      "text/plain": [
       "np.int64(0)"
      ]
     },
     "execution_count": 11,
     "metadata": {},
     "output_type": "execute_result"
    }
   ],
   "source": [
    "# Your turn! get the day of the month from the date_parsed column\n",
    "day_of_month_earthquakes = earthquakes['Date_parsed'].dt.day\n",
    "day_of_month_earthquakes.isnull().sum()"
   ]
  },
  {
   "cell_type": "markdown",
   "metadata": {
    "_cell_guid": "fe33df7d-c85d-4b61-b572-5682e6eea81b",
    "_uuid": "a2cec7b480ef13c070d40ca0e0763d2d30a86a9c"
   },
   "source": [
    "## Plot the day of the month to check the date parsing"
   ]
  },
  {
   "cell_type": "markdown",
   "metadata": {
    "_cell_guid": "fe33df7d-c85d-4b61-b572-5682e6eea81b",
    "_uuid": "a2cec7b480ef13c070d40ca0e0763d2d30a86a9c"
   },
   "source": [
    "One of the biggest dangers in parsing dates is mixing up the months and days. The to_datetime() function does have very helpful error messages, but it doesn't hurt to double-check that the days of the month we've extracted make sense. \n",
    "\n",
    "To do this, let's plot a histogram of the days of the month. We expect it to have values between 1 and 31 and, since there's no reason to suppose the landslides are more common on some days of the month than others, a relatively even distribution. (With a dip on 31 because not all months have 31 days.) Let's see if that's the case:"
   ]
  },
  {
   "cell_type": "code",
   "execution_count": 12,
   "metadata": {
    "_cell_guid": "49feb18f-c077-474e-9353-a24ae850acf6",
    "_uuid": "d3d5a143d3d49e10187e420abfe9cfe18c7bac56"
   },
   "outputs": [
    {
     "data": {
      "image/png": "[encoded data removed]",
      "text/plain": [
       "<Figure size 640x480 with 1 Axes>"
      ]
     },
     "metadata": {},
     "output_type": "display_data"
    }
   ],
   "source": [
    "# remove na's\n",
    "day_of_month_landslides = day_of_month_landslides.dropna()\n",
    "\n",
    "# plot the day of the month\n",
    "g=sns.histplot(day_of_month_landslides, kde=False, bins=31)\n",
    "g.set_xlabel('Day of month')\n",
    "plt.show()"
   ]
  },
  {
   "cell_type": "markdown",
   "metadata": {
    "_cell_guid": "c8c706a4-2697-4520-b0dd-86fc6fb80326",
    "_uuid": "90016c3e93eb8499d9efe2ece32fb5b70dcbd2ae"
   },
   "source": [
    "Yep, it looks like we did parse our dates correctly & this graph makes good sense to me. Why don't you take a turn checking the dates you parsed earlier?"
   ]
  },
  {
   "cell_type": "code",
   "execution_count": 13,
   "metadata": {
    "_cell_guid": "7b5a7571-2ee3-4aad-94e9-ba47b06e6a29",
    "_uuid": "f2b79871c730f32f5ef1889912b7a8623eccf98f"
   },
   "outputs": [
    {
     "data": {
      "image/png": "[encoded data removed]",
      "text/plain": [
       "<Figure size 640x480 with 1 Axes>"
      ]
     },
     "metadata": {},
     "output_type": "display_data"
    }
   ],
   "source": [
    "# Your turn! Plot the days of the month from your\n",
    "# earthquake dataset and make sure they make sense.\n",
    "\n",
    "# We could remove na's but we already checked there are no null values\n",
    "# day_of_month_landslides = day_of_month_landslides.dropna()\n",
    "\n",
    "# plot the day of the month\n",
    "g=sns.histplot(day_of_month_earthquakes, kde=False, bins=31)\n",
    "g.set_xlabel('Day of month')\n",
    "g.set_title('Earthquakes distribution per day of month')\n",
    "plt.show()"
   ]
  },
  {
   "cell_type": "markdown",
   "metadata": {
    "_cell_guid": "b4f37fce-4d08-409e-bbbd-6a26c3bbc6ee",
    "_uuid": "52b0af56e3c77db96056e9acd785f8f435f7caf5"
   },
   "source": [
    "And that's it for today! If you have any questions, be sure to post them in the comments below or [on the forums](https://www.kaggle.com/questions-and-answers). \n",
    "\n",
    "Remember that your notebook is private by default, and in order to share it with other people or ask for help with it, you'll need to make it public. First, you'll need to save a version of your notebook that shows your current work by hitting the \"Commit & Run\" button. (Your work is saved automatically, but versioning your work lets you go back and look at what it was like at the point you saved it. It also lets you share a nice compiled notebook instead of just the raw code.) Then, once your notebook is finished running, you can go to the Settings tab in the panel to the left (you may have to expand it by hitting the [<] button next to the \"Commit & Run\" button) and setting the \"Visibility\" dropdown to \"Public\"."
   ]
  },
  {
   "cell_type": "markdown",
   "metadata": {
    "_cell_guid": "b4f37fce-4d08-409e-bbbd-6a26c3bbc6ee",
    "_uuid": "52b0af56e3c77db96056e9acd785f8f435f7caf5"
   },
   "source": [
    "## More practice!"
   ]
  },
  {
   "cell_type": "markdown",
   "metadata": {
    "_cell_guid": "b4f37fce-4d08-409e-bbbd-6a26c3bbc6ee",
    "_uuid": "52b0af56e3c77db96056e9acd785f8f435f7caf5"
   },
   "source": [
    "If you're interested in graphing time series, [check out this Learn tutorial](https://www.kaggle.com/residentmario/time-series-plotting-optional).\n",
    "\n",
    "You can also look into passing columns that you know have dates in them  the `parse_dates` argument in `read_csv`. (The documention [is here](https://pandas.pydata.org/pandas-docs/stable/generated/pandas.read_csv.html).) Do note that this method can be very slow, but depending on your needs it may sometimes be handy to use.\n",
    "\n",
    "For an extra challenge, you can try try parsing the column `Last Known Eruption` from the `volcanos` dataframe. This column contains a mixture of text (\"Unknown\") and years both before the common era (BCE, also known as BC) and in the common era (CE, also known as AD)."
   ]
  },
  {
   "cell_type": "code",
   "execution_count": 14,
   "metadata": {
    "_cell_guid": "dd64bc7c-c361-44d3-9f02-f7f8a2cb8430",
    "_uuid": "0027b29db32dc34294f713c345747a37d89cfd26"
   },
   "outputs": [
    {
     "data": {
      "text/plain": [
       "329      Unknown\n",
       "895     1600 BCE\n",
       "1077     Unknown\n",
       "562      Unknown\n",
       "889      1987 CE\n",
       "Name: Last Known Eruption, dtype: object"
      ]
     },
     "execution_count": 14,
     "metadata": {},
     "output_type": "execute_result"
    }
   ],
   "source": [
    "volcanos['Last Known Eruption'].sample(5)"
   ]
  },
  {
   "cell_type": "code",
   "execution_count": 15,
   "metadata": {},
   "outputs": [
    {
     "name": "stdout",
     "output_type": "stream",
     "text": [
      "<class 'pandas.core.frame.DataFrame'>\n",
      "RangeIndex: 1508 entries, 0 to 1507\n",
      "Data columns (total 12 columns):\n",
      " #   Column               Non-Null Count  Dtype  \n",
      "---  ------               --------------  -----  \n",
      " 0   Number               1508 non-null   int64  \n",
      " 1   Name                 1508 non-null   object \n",
      " 2   Country              1508 non-null   object \n",
      " 3   Region               1508 non-null   object \n",
      " 4   Type                 1508 non-null   object \n",
      " 5   Activity Evidence    1507 non-null   object \n",
      " 6   Last Known Eruption  1508 non-null   object \n",
      " 7   Latitude             1508 non-null   float64\n",
      " 8   Longitude            1508 non-null   float64\n",
      " 9   Elevation (Meters)   1508 non-null   int64  \n",
      " 10  Dominant Rock Type   1455 non-null   object \n",
      " 11  Tectonic Setting     1501 non-null   object \n",
      "dtypes: float64(2), int64(2), object(8)\n",
      "memory usage: 141.5+ KB\n"
     ]
    }
   ],
   "source": [
    "volcanos.info()"
   ]
  },
  {
   "cell_type": "code",
   "execution_count": 16,
   "metadata": {},
   "outputs": [
    {
     "data": {
      "text/plain": [
       "1103    1170 BCE\n",
       "1047     2015 CE\n",
       "159      Unknown\n",
       "168      Unknown\n",
       "364      2000 CE\n",
       "1218     1786 CE\n",
       "1114     1986 CE\n",
       "452      Unknown\n",
       "379      Unknown\n",
       "201      Unknown\n",
       "324      1350 CE\n",
       "240      Unknown\n",
       "444      2015 CE\n",
       "1398     1977 CE\n",
       "164      Unknown\n",
       "Name: Last Known Eruption, dtype: object"
      ]
     },
     "execution_count": 16,
     "metadata": {},
     "output_type": "execute_result"
    }
   ],
   "source": [
    "year split(volcanos['Last Known Eruption'])"
   ]
  },
  {
   "cell_type": "code",
   "execution_count": 59,
   "metadata": {},
   "outputs": [],
   "source": [
    "def convert_to_years(year_str):\n",
    "    if year_str == 'Unknown':\n",
    "        return 'Unknown'  # or return None if you prefer\n",
    "    year, era = year_str.split(' ')\n",
    "    year = int(year)\n",
    "    if era not in ['CE','BCE']:\n",
    "        print(era)\n",
    "    if era == 'BCE':\n",
    "        return -year  # BCE y'Unknown'ears are negative\n",
    "    elif era == 'CE':\n",
    "        return year  # CE years are positive\n",
    "    else:\n",
    "        return np.nan  # In case of an invalid format"
   ]
  },
  {
   "cell_type": "code",
   "execution_count": 60,
   "metadata": {},
   "outputs": [],
   "source": [
    "volcanos['Eruption_year'] = volcanos['Last Known Eruption'].apply(convert_to_years)"
   ]
  },
  {
   "cell_type": "code",
   "execution_count": 61,
   "metadata": {},
   "outputs": [
    {
     "data": {
      "text/plain": [
       "637"
      ]
     },
     "execution_count": 61,
     "metadata": {},
     "output_type": "execute_result"
    }
   ],
   "source": [
    "volcanos_NaT = volcanos[volcanos['Last Known Eruption']=='Unknown']\n",
    "volcanos_NaT[(volcanos_NaT['Last Known Eruption']=='Unknown')&(volcanos_NaT['Eruption_year']=='Unknown')][['Last Known Eruption', 'Eruption_year']].size\n",
    "len(volcanos_NaT)\n"
   ]
  },
  {
   "cell_type": "code",
   "execution_count": 63,
   "metadata": {},
   "outputs": [
    {
     "data": {
      "text/html": [
       "<div>\n",
       "<style scoped>\n",
       "    .dataframe tbody tr th:only-of-type {\n",
       "        vertical-align: middle;\n",
       "    }\n",
       "\n",
       "    .dataframe tbody tr th {\n",
       "        vertical-align: top;\n",
       "    }\n",
       "\n",
       "    .dataframe thead th {\n",
       "        text-align: right;\n",
       "    }\n",
       "</style>\n",
       "<table border=\"1\" class=\"dataframe\">\n",
       "  <thead>\n",
       "    <tr style=\"text-align: right;\">\n",
       "      <th></th>\n",
       "      <th>Name</th>\n",
       "      <th>Eruption_year</th>\n",
       "      <th>Last Known Eruption</th>\n",
       "    </tr>\n",
       "  </thead>\n",
       "  <tbody>\n",
       "    <tr>\n",
       "      <th>484</th>\n",
       "      <td>Banua Wuhu</td>\n",
       "      <td>1919</td>\n",
       "      <td>1919 CE</td>\n",
       "    </tr>\n",
       "    <tr>\n",
       "      <th>993</th>\n",
       "      <td>Baker</td>\n",
       "      <td>1880</td>\n",
       "      <td>1880 CE</td>\n",
       "    </tr>\n",
       "    <tr>\n",
       "      <th>1107</th>\n",
       "      <td>Naolinco Volcanic Field</td>\n",
       "      <td>-1200</td>\n",
       "      <td>1200 BCE</td>\n",
       "    </tr>\n",
       "    <tr>\n",
       "      <th>707</th>\n",
       "      <td>Raususan [Mendeleev]</td>\n",
       "      <td>1880</td>\n",
       "      <td>1880 CE</td>\n",
       "    </tr>\n",
       "    <tr>\n",
       "      <th>456</th>\n",
       "      <td>Ilimuda</td>\n",
       "      <td>Unknown</td>\n",
       "      <td>Unknown</td>\n",
       "    </tr>\n",
       "    <tr>\n",
       "      <th>1324</th>\n",
       "      <td>Atuel, Caldera del</td>\n",
       "      <td>Unknown</td>\n",
       "      <td>Unknown</td>\n",
       "    </tr>\n",
       "    <tr>\n",
       "      <th>755</th>\n",
       "      <td>Yavinsky</td>\n",
       "      <td>-4050</td>\n",
       "      <td>4050 BCE</td>\n",
       "    </tr>\n",
       "    <tr>\n",
       "      <th>1440</th>\n",
       "      <td>Esjufjoll</td>\n",
       "      <td>Unknown</td>\n",
       "      <td>Unknown</td>\n",
       "    </tr>\n",
       "    <tr>\n",
       "      <th>808</th>\n",
       "      <td>Sheveluch</td>\n",
       "      <td>2016</td>\n",
       "      <td>2016 CE</td>\n",
       "    </tr>\n",
       "    <tr>\n",
       "      <th>191</th>\n",
       "      <td>Sawad, Harra Es-</td>\n",
       "      <td>1253</td>\n",
       "      <td>1253 CE</td>\n",
       "    </tr>\n",
       "  </tbody>\n",
       "</table>\n",
       "</div>"
      ],
      "text/plain": [
       "                         Name Eruption_year Last Known Eruption\n",
       "484                Banua Wuhu          1919             1919 CE\n",
       "993                     Baker          1880             1880 CE\n",
       "1107  Naolinco Volcanic Field         -1200            1200 BCE\n",
       "707      Raususan [Mendeleev]          1880             1880 CE\n",
       "456                   Ilimuda       Unknown             Unknown\n",
       "1324       Atuel, Caldera del       Unknown             Unknown\n",
       "755                  Yavinsky         -4050            4050 BCE\n",
       "1440                Esjufjoll       Unknown             Unknown\n",
       "808                 Sheveluch          2016             2016 CE\n",
       "191          Sawad, Harra Es-          1253             1253 CE"
      ]
     },
     "execution_count": 63,
     "metadata": {},
     "output_type": "execute_result"
    }
   ],
   "source": [
    "volcanos[['Name','Eruption_year','Last Known Eruption']].sample(10)"
   ]
  },
  {
   "cell_type": "code",
   "execution_count": null,
   "metadata": {},
   "outputs": [],
   "source": []
  }
 ],
 "metadata": {
  "kernelspec": {
   "display_name": "Python (Data Analysis Base)",
   "language": "python",
   "name": "data_env"
  },
  "language_info": {
   "codemirror_mode": {
    "name": "ipython",
    "version": 3
   },
   "file_extension": ".py",
   "mimetype": "text/x-python",
   "name": "python",
   "nbconvert_exporter": "python",
   "pygments_lexer": "ipython3",
   "version": "3.12.9"
  }
 },
 "nbformat": 4,
 "nbformat_minor": 4
}
